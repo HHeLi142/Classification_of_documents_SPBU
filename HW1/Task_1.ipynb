{
  "cells": [
    {
      "cell_type": "markdown",
      "metadata": {
        "id": "R89TMgvnQX32"
      },
      "source": [
        "# Задание 1.1\n",
        "\n",
        "[Свертка списка](https://ru.wikipedia.org/wiki/%D0%A1%D0%B2%D1%91%D1%80%D1%82%D0%BA%D0%B0_%D1%81%D0%BF%D0%B8%D1%81%D0%BA%D0%B0) -  это обобщенная операция над списком, c помощью которой можно преобразовать список в единое значение. Например, рассмотрим реализации свертки слева и свертки справа (левоассоциативную свертку и правоассоциативную свертку):"
      ]
    },
    {
      "cell_type": "code",
      "execution_count": 1,
      "metadata": {
        "collapsed": true,
        "id": "-zy1NTptQX4A",
        "jupyter": {
          "outputs_hidden": true
        }
      },
      "outputs": [],
      "source": [
        "def foldl(f, x0, lst):\n",
        "    if not lst:\n",
        "        return x0\n",
        "    return foldl(f, f(x0, lst[0]), lst[1:])\n",
        "\n",
        "def foldr(f, x0, lst):\n",
        "    if not lst:\n",
        "        return x0\n",
        "    return f(lst[0], foldr(f, x0, lst[1:]))"
      ]
    },
    {
      "cell_type": "code",
      "execution_count": 2,
      "metadata": {
        "id": "xrtswBUHQX4E",
        "outputId": "5f2f5bc6-901f-48e4-a090-4fc0024ca04a"
      },
      "outputs": [
        {
          "data": {
            "text/plain": [
              "6"
            ]
          },
          "execution_count": 2,
          "metadata": {},
          "output_type": "execute_result"
        }
      ],
      "source": [
        "#сумма\n",
        "foldl(lambda x, y: x + y, 0, [1, 2, 3])"
      ]
    },
    {
      "cell_type": "code",
      "execution_count": 3,
      "metadata": {
        "id": "7mq-EsRWQX4K",
        "outputId": "23aea762-615f-4f11-84e0-2b91bdd958f7"
      },
      "outputs": [
        {
          "data": {
            "text/plain": [
              "'123'"
            ]
          },
          "execution_count": 3,
          "metadata": {},
          "output_type": "execute_result"
        }
      ],
      "source": [
        "#конкатенация\n",
        "foldl(lambda x, y: '{}{}'.format(x, y), '', [1, 2, 3])"
      ]
    },
    {
      "cell_type": "code",
      "execution_count": 4,
      "metadata": {
        "id": "4QvN5NDRQX4M",
        "outputId": "6d814e12-d7db-4bb0-f472-5fe938795cd4"
      },
      "outputs": [
        {
          "data": {
            "text/plain": [
              "(0.16666666666666666, 1.5)"
            ]
          },
          "execution_count": 4,
          "metadata": {},
          "output_type": "execute_result"
        }
      ],
      "source": [
        "f = lambda x, y: x / y\n",
        "foldl(f, 1, [1, 2, 3]), \\\n",
        "foldr(f, 1, [1, 2, 3])"
      ]
    },
    {
      "cell_type": "markdown",
      "metadata": {
        "id": "Q8qqwij-QX4O"
      },
      "source": [
        "Задача: реализовать foldl через foldr и наоборот. Вместо многоточий нужно вставить выражения, которые бы привели к нужному результату. Модифицировать сам список нельзя. "
      ]
    },
    {
      "cell_type": "code",
      "execution_count": 5,
      "metadata": {
        "collapsed": true,
        "id": "uemnLyoUQX4P",
        "jupyter": {
          "outputs_hidden": true
        }
      },
      "outputs": [],
      "source": [
        "def foldl2(f, x0, lst):\n",
        "    return foldr(lambda x, g: lambda y: g(f(y, x)), lambda x: x, lst)(x0)"
      ]
    },
    {
      "cell_type": "code",
      "execution_count": 6,
      "metadata": {
        "collapsed": true,
        "id": "YteFrncxQX4Q",
        "jupyter": {
          "outputs_hidden": true
        }
      },
      "outputs": [],
      "source": [
        "def foldr2(f, x0, lst):\n",
        "    return foldl(lambda g, x: lambda y: g(f(x, y)), lambda x: x, lst)(x0)"
      ]
    },
    {
      "cell_type": "code",
      "execution_count": 55,
      "metadata": {},
      "outputs": [],
      "source": [
        "f = lambda x, y: x * y\n",
        "assert foldl2(f, 1, [1,2,3]) == 6\n",
        "assert foldr2(f, 1, [1,2,3]) == 6\n",
        "\n",
        "f = lambda x, y: x % y\n",
        "assert foldl2(f, 10, [3, 2, 5]) == 1\n",
        "assert foldr2(f, 10, [2, 14, 5]) == 2"
      ]
    },
    {
      "cell_type": "markdown",
      "metadata": {
        "id": "0UHG-gHhQX4R"
      },
      "source": [
        "# Задание 1.2\n",
        "\n",
        "нужно написать функцию, которая принимает две строки и проверяет, входит ли хотя бы одна перестановка второй строки в первую. Например:\n",
        "\n",
        "> a = 'abcrotm'\n",
        "> \n",
        "> b = 'tro'\n",
        "\n",
        "функция def check_inv(a, b) вернет True, так как 'rot' содержится в 'abcrotm'. Нужно подумать как можно более оптимальный алгоритм и оценить его сложность. "
      ]
    },
    {
      "cell_type": "code",
      "execution_count": 46,
      "metadata": {
        "collapsed": true,
        "id": "6dO2M76VQX4S",
        "jupyter": {
          "outputs_hidden": true
        }
      },
      "outputs": [],
      "source": [
        "def check_invese(a, let, cnt):\n",
        "    if cnt[a[let]] != 0:\n",
        "        cnt[a[let]] -= 1\n",
        "        return True\n",
        "    return False\n",
        "\n",
        "def check_inv(a, b):\n",
        "    cnt_b = {}\n",
        "    r = 0\n",
        "    l = 0\n",
        "    cur_inv = 0\n",
        "    res = 0\n",
        "\n",
        "    for let in b:\n",
        "        if cnt_b.get(let) == None:\n",
        "            cnt_b[let] = 1\n",
        "        else:\n",
        "            cnt_b[let] += 1\n",
        "    \n",
        "    cur_cnt = cnt_b.copy()\n",
        "    while r  < len(a):\n",
        "        if cnt_b.get(a[r]) == None:\n",
        "            cur_inv = 0\n",
        "            l = r + 1\n",
        "            r += 1\n",
        "            cur_cnt = cnt_b.copy()\n",
        "        elif check_invese(a, r, cur_cnt):\n",
        "            cur_inv = cur_inv + 1\n",
        "            r += 1\n",
        "        else:\n",
        "            cur_cnt[a[l]] += 1\n",
        "            l += 1\n",
        "            cur_inv -= 1\n",
        "        if cur_inv == len(b):\n",
        "            return True\n",
        "    return False"
      ]
    },
    {
      "cell_type": "code",
      "execution_count": 48,
      "metadata": {
        "id": "cZPEdOzjo0tI"
      },
      "outputs": [],
      "source": [
        "assert check_inv('abacaba', 'abc') == True\n",
        "assert check_inv('aaabc', 'abc') == True\n",
        "assert check_inv('cab', 'abc') == True \n",
        "assert check_inv('aabbcc', 'aabcc') == False\n",
        "assert check_inv('acbbca', 'acac') == False\n",
        "assert check_inv('acbbca', 'acafwwf') == False"
      ]
    },
    {
      "cell_type": "markdown",
      "metadata": {
        "id": "YtZV7QnHQX4T"
      },
      "source": [
        "# Задание 1.3\n",
        "\n",
        "Реализовать бинарное дерево (класс Tree), в нём методы __repr__, __str__, __iter__ (итерация только по листьям)."
      ]
    },
    {
      "cell_type": "code",
      "execution_count": 49,
      "metadata": {
        "colab": {
          "base_uri": "https://localhost:8080/"
        },
        "id": "t5Xv8lkHQX4V",
        "outputId": "84fb1718-809e-4cee-864d-6fc97aed7bdd"
      },
      "outputs": [
        {
          "data": {
            "text/plain": [
              "True"
            ]
          },
          "execution_count": 49,
          "metadata": {},
          "output_type": "execute_result"
        }
      ],
      "source": [
        "class Tree:\n",
        "    def __init__(self, value=None, left=None, right=None):\n",
        "        self.left = left\n",
        "        self.right = right\n",
        "        self.value = value\n",
        "        \n",
        "    def __iter__(self):\n",
        "        if self.left:\n",
        "            yield from self.left\n",
        "        if self.right:\n",
        "            yield from self.right\n",
        "        if self.left == None and self.right == None:\n",
        "            yield self.value\n",
        "    \n",
        "    def __str__(self):\n",
        "        return 'Tree [' + str(self.value) + ']'\n",
        "    \n",
        "    def __repr__(self):\n",
        "        return f'Tree [value:{self.value}, left: {self.left}, right: {self.right}]'\n",
        "    \n",
        "tree = Tree(0, Tree(1, Tree(3), Tree(4)),                             \n",
        "               Tree(2))\n",
        "\n",
        "list(tree) == [3, 4, 2]"
      ]
    },
    {
      "cell_type": "code",
      "execution_count": 50,
      "metadata": {
        "colab": {
          "base_uri": "https://localhost:8080/"
        },
        "id": "7US5KlAFWqvn",
        "outputId": "64983046-3dd6-4c7a-a6ed-1ccc81009d25"
      },
      "outputs": [
        {
          "data": {
            "text/plain": [
              "Tree [value:0, left: Tree [1], right: Tree [2]]"
            ]
          },
          "execution_count": 50,
          "metadata": {},
          "output_type": "execute_result"
        }
      ],
      "source": [
        "tree"
      ]
    },
    {
      "cell_type": "code",
      "execution_count": 51,
      "metadata": {
        "colab": {
          "base_uri": "https://localhost:8080/"
        },
        "id": "olm2mwGNWtw-",
        "outputId": "d68acd50-e534-49cf-f6aa-d60ed15e4869"
      },
      "outputs": [
        {
          "name": "stdout",
          "output_type": "stream",
          "text": [
            "Tree [0]\n"
          ]
        }
      ],
      "source": [
        "print(tree)"
      ]
    },
    {
      "cell_type": "markdown",
      "metadata": {
        "id": "o4g_n6I2QX4W"
      },
      "source": [
        "# Задание 1.4\n",
        "\n",
        "Реализовать простейший калькулятор математических выражений:\n",
        "- только целые числа\n",
        "- **+**, **\\-**, **\\***, **\\**\n",
        "- скобки\n",
        "\n",
        "**Можно использовать регулярные выражения**"
      ]
    },
    {
      "cell_type": "code",
      "execution_count": 52,
      "metadata": {
        "id": "qVUHsvSjQX4Y"
      },
      "outputs": [],
      "source": [
        "from typing import List\n",
        "\n",
        "def calc(expression):\n",
        "\n",
        "    expression = list(expression) if not isinstance(expression, List) else expression\n",
        "\n",
        "    res = 0\n",
        "    stack = []\n",
        "    sign = '+'\n",
        "\n",
        "    while expression and sign != ')':\n",
        "        item = expression.pop(0)\n",
        "        if item.isdigit():\n",
        "            res *= 10\n",
        "            res += float(item)\n",
        "        elif item == '(':\n",
        "            res = calc(expression)\n",
        "\n",
        "        if not expression or item in '+-*/)':\n",
        "            if sign == '+':\n",
        "                stack.append(res)\n",
        "            elif sign == '-':\n",
        "                stack.append(-res)\n",
        "            elif sign == '*':\n",
        "                stack[len(stack) - 1] = stack[len(stack) - 1] * res\n",
        "            elif sign == '/':\n",
        "                stack[len(stack) - 1] = stack[len(stack) - 1] / res \n",
        "            sign = item\n",
        "            res = 0\n",
        "    \n",
        "    return sum(stack)\n"
      ]
    },
    {
      "cell_type": "code",
      "execution_count": 54,
      "metadata": {
        "colab": {
          "base_uri": "https://localhost:8080/"
        },
        "id": "lvwLUyv9x500",
        "outputId": "d9842a9e-0e4c-4e78-b362-16d4f6472dac"
      },
      "outputs": [],
      "source": [
        "assert calc('5 + 5 * 5 - 5 * (2 - 1/2 * 2)') == 25\n",
        "assert calc('2 * (15 - 3 * 4) - 2') == 4\n",
        "assert calc('(1 - 4 * (12 - 13))') == 5"
      ]
    },
    {
      "cell_type": "code",
      "execution_count": 5,
      "metadata": {
        "id": "LriY-YFCx-12"
      },
      "outputs": [],
      "source": [
        "def check_invese(a, let, cnt):\n",
        "    if cnt[a[let]] != 0:\n",
        "        cnt[a[let]] -= 1\n",
        "        return True\n",
        "    return False\n",
        "\n",
        "def check_inv(a, b):\n",
        "    cnt_b = {}\n",
        "    r = 0\n",
        "    l = 0\n",
        "    cur_inv = 0\n",
        "    res = 0\n",
        "\n",
        "    for let in b:\n",
        "        if cnt_b.get(let) == None:\n",
        "            cnt_b[let] = 1\n",
        "        else:\n",
        "            cnt_b[let] += 1\n",
        "    \n",
        "    cur_cnt = cnt_b.copy()\n",
        "    while r  < len(a):\n",
        "        if cnt_b.get(a[r]) == None:\n",
        "            cur_inv = 0\n",
        "            l = r + 1\n",
        "            r += 1\n",
        "            cur_cnt = cnt_b.copy()\n",
        "        elif check_invese(a, r, cur_cnt):\n",
        "            cur_inv = cur_inv + 1\n",
        "            r += 1\n",
        "        else:\n",
        "            cur_cnt[a[l]] += 1\n",
        "            l += 1\n",
        "            cur_inv -= 1\n",
        "        if cur_inv == len(b):\n",
        "            return True\n",
        "    return False"
      ]
    }
  ],
  "metadata": {
    "colab": {
      "collapsed_sections": [],
      "provenance": []
    },
    "kernelspec": {
      "display_name": "Python 3.9.7 ('base')",
      "language": "python",
      "name": "python3"
    },
    "language_info": {
      "codemirror_mode": {
        "name": "ipython",
        "version": 3
      },
      "file_extension": ".py",
      "mimetype": "text/x-python",
      "name": "python",
      "nbconvert_exporter": "python",
      "pygments_lexer": "ipython3",
      "version": "3.9.7"
    },
    "vscode": {
      "interpreter": {
        "hash": "bb56c7178c5c3950ce0600093d14e91d5516d0acac93e5fcac1d697d54dac205"
      }
    }
  },
  "nbformat": 4,
  "nbformat_minor": 0
}
